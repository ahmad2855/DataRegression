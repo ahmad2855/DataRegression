{
  "nbformat": 4,
  "nbformat_minor": 0,
  "metadata": {
    "colab": {
      "provenance": []
    },
    "kernelspec": {
      "name": "python3",
      "display_name": "Python 3"
    },
    "language_info": {
      "name": "python"
    }
  },
  "cells": [
    {
      "cell_type": "code",
      "execution_count": 1,
      "metadata": {
        "colab": {
          "base_uri": "https://localhost:8080/"
        },
        "id": "HqmU_6OrPyTJ",
        "outputId": "963a9f68-02d3-4381-a298-b553cf34f493"
      },
      "outputs": [
        {
          "output_type": "stream",
          "name": "stdout",
          "text": [
            "Drive already mounted at /content/drive; to attempt to forcibly remount, call drive.mount(\"/content/drive\", force_remount=True).\n"
          ]
        }
      ],
      "source": [
        "import pandas as pd\n",
        "from google.colab import drive #memanggil package import drive\n",
        "drive.mount('/content/drive')"
      ]
    },
    {
      "cell_type": "code",
      "source": [
        "path = '/content/drive/MyDrive/CSV/regresi5ed spreadsheet - Sheet4.csv'\n",
        "\n",
        "\n",
        "df = pd.read_csv(path)\n",
        "\n",
        "df.describe()"
      ],
      "metadata": {
        "colab": {
          "base_uri": "https://localhost:8080/",
          "height": 300
        },
        "id": "UeKwkUUiQGFL",
        "outputId": "1f4e5b25-98c4-4029-a44d-140082870a67"
      },
      "execution_count": 3,
      "outputs": [
        {
          "output_type": "execute_result",
          "data": {
            "text/plain": [
              "            volume         omzet\n",
              "count    20.000000  2.000000e+01\n",
              "mean   2234.700000  5.003525e+07\n",
              "std    1913.483489  3.993193e+07\n",
              "min     366.000000  5.140000e+06\n",
              "25%    1120.250000  1.917000e+07\n",
              "50%    1212.500000  3.744500e+07\n",
              "75%    3031.750000  7.094125e+07\n",
              "max    6720.000000  1.442800e+08"
            ],
            "text/html": [
              "\n",
              "  <div id=\"df-f8d6e1e8-079b-45d6-9846-690e6922516f\">\n",
              "    <div class=\"colab-df-container\">\n",
              "      <div>\n",
              "<style scoped>\n",
              "    .dataframe tbody tr th:only-of-type {\n",
              "        vertical-align: middle;\n",
              "    }\n",
              "\n",
              "    .dataframe tbody tr th {\n",
              "        vertical-align: top;\n",
              "    }\n",
              "\n",
              "    .dataframe thead th {\n",
              "        text-align: right;\n",
              "    }\n",
              "</style>\n",
              "<table border=\"1\" class=\"dataframe\">\n",
              "  <thead>\n",
              "    <tr style=\"text-align: right;\">\n",
              "      <th></th>\n",
              "      <th>volume</th>\n",
              "      <th>omzet</th>\n",
              "    </tr>\n",
              "  </thead>\n",
              "  <tbody>\n",
              "    <tr>\n",
              "      <th>count</th>\n",
              "      <td>20.000000</td>\n",
              "      <td>2.000000e+01</td>\n",
              "    </tr>\n",
              "    <tr>\n",
              "      <th>mean</th>\n",
              "      <td>2234.700000</td>\n",
              "      <td>5.003525e+07</td>\n",
              "    </tr>\n",
              "    <tr>\n",
              "      <th>std</th>\n",
              "      <td>1913.483489</td>\n",
              "      <td>3.993193e+07</td>\n",
              "    </tr>\n",
              "    <tr>\n",
              "      <th>min</th>\n",
              "      <td>366.000000</td>\n",
              "      <td>5.140000e+06</td>\n",
              "    </tr>\n",
              "    <tr>\n",
              "      <th>25%</th>\n",
              "      <td>1120.250000</td>\n",
              "      <td>1.917000e+07</td>\n",
              "    </tr>\n",
              "    <tr>\n",
              "      <th>50%</th>\n",
              "      <td>1212.500000</td>\n",
              "      <td>3.744500e+07</td>\n",
              "    </tr>\n",
              "    <tr>\n",
              "      <th>75%</th>\n",
              "      <td>3031.750000</td>\n",
              "      <td>7.094125e+07</td>\n",
              "    </tr>\n",
              "    <tr>\n",
              "      <th>max</th>\n",
              "      <td>6720.000000</td>\n",
              "      <td>1.442800e+08</td>\n",
              "    </tr>\n",
              "  </tbody>\n",
              "</table>\n",
              "</div>\n",
              "      <button class=\"colab-df-convert\" onclick=\"convertToInteractive('df-f8d6e1e8-079b-45d6-9846-690e6922516f')\"\n",
              "              title=\"Convert this dataframe to an interactive table.\"\n",
              "              style=\"display:none;\">\n",
              "        \n",
              "  <svg xmlns=\"http://www.w3.org/2000/svg\" height=\"24px\"viewBox=\"0 0 24 24\"\n",
              "       width=\"24px\">\n",
              "    <path d=\"M0 0h24v24H0V0z\" fill=\"none\"/>\n",
              "    <path d=\"M18.56 5.44l.94 2.06.94-2.06 2.06-.94-2.06-.94-.94-2.06-.94 2.06-2.06.94zm-11 1L8.5 8.5l.94-2.06 2.06-.94-2.06-.94L8.5 2.5l-.94 2.06-2.06.94zm10 10l.94 2.06.94-2.06 2.06-.94-2.06-.94-.94-2.06-.94 2.06-2.06.94z\"/><path d=\"M17.41 7.96l-1.37-1.37c-.4-.4-.92-.59-1.43-.59-.52 0-1.04.2-1.43.59L10.3 9.45l-7.72 7.72c-.78.78-.78 2.05 0 2.83L4 21.41c.39.39.9.59 1.41.59.51 0 1.02-.2 1.41-.59l7.78-7.78 2.81-2.81c.8-.78.8-2.07 0-2.86zM5.41 20L4 18.59l7.72-7.72 1.47 1.35L5.41 20z\"/>\n",
              "  </svg>\n",
              "      </button>\n",
              "      \n",
              "  <style>\n",
              "    .colab-df-container {\n",
              "      display:flex;\n",
              "      flex-wrap:wrap;\n",
              "      gap: 12px;\n",
              "    }\n",
              "\n",
              "    .colab-df-convert {\n",
              "      background-color: #E8F0FE;\n",
              "      border: none;\n",
              "      border-radius: 50%;\n",
              "      cursor: pointer;\n",
              "      display: none;\n",
              "      fill: #1967D2;\n",
              "      height: 32px;\n",
              "      padding: 0 0 0 0;\n",
              "      width: 32px;\n",
              "    }\n",
              "\n",
              "    .colab-df-convert:hover {\n",
              "      background-color: #E2EBFA;\n",
              "      box-shadow: 0px 1px 2px rgba(60, 64, 67, 0.3), 0px 1px 3px 1px rgba(60, 64, 67, 0.15);\n",
              "      fill: #174EA6;\n",
              "    }\n",
              "\n",
              "    [theme=dark] .colab-df-convert {\n",
              "      background-color: #3B4455;\n",
              "      fill: #D2E3FC;\n",
              "    }\n",
              "\n",
              "    [theme=dark] .colab-df-convert:hover {\n",
              "      background-color: #434B5C;\n",
              "      box-shadow: 0px 1px 3px 1px rgba(0, 0, 0, 0.15);\n",
              "      filter: drop-shadow(0px 1px 2px rgba(0, 0, 0, 0.3));\n",
              "      fill: #FFFFFF;\n",
              "    }\n",
              "  </style>\n",
              "\n",
              "      <script>\n",
              "        const buttonEl =\n",
              "          document.querySelector('#df-f8d6e1e8-079b-45d6-9846-690e6922516f button.colab-df-convert');\n",
              "        buttonEl.style.display =\n",
              "          google.colab.kernel.accessAllowed ? 'block' : 'none';\n",
              "\n",
              "        async function convertToInteractive(key) {\n",
              "          const element = document.querySelector('#df-f8d6e1e8-079b-45d6-9846-690e6922516f');\n",
              "          const dataTable =\n",
              "            await google.colab.kernel.invokeFunction('convertToInteractive',\n",
              "                                                     [key], {});\n",
              "          if (!dataTable) return;\n",
              "\n",
              "          const docLinkHtml = 'Like what you see? Visit the ' +\n",
              "            '<a target=\"_blank\" href=https://colab.research.google.com/notebooks/data_table.ipynb>data table notebook</a>'\n",
              "            + ' to learn more about interactive tables.';\n",
              "          element.innerHTML = '';\n",
              "          dataTable['output_type'] = 'display_data';\n",
              "          await google.colab.output.renderOutput(dataTable, element);\n",
              "          const docLink = document.createElement('div');\n",
              "          docLink.innerHTML = docLinkHtml;\n",
              "          element.appendChild(docLink);\n",
              "        }\n",
              "      </script>\n",
              "    </div>\n",
              "  </div>\n",
              "  "
            ]
          },
          "metadata": {},
          "execution_count": 3
        }
      ]
    },
    {
      "cell_type": "code",
      "source": [
        "df"
      ],
      "metadata": {
        "colab": {
          "base_uri": "https://localhost:8080/",
          "height": 677
        },
        "id": "_5PQqk1yQNDR",
        "outputId": "7cb2391a-407e-46c5-9256-8158e1bab7e9"
      },
      "execution_count": 4,
      "outputs": [
        {
          "output_type": "execute_result",
          "data": {
            "text/plain": [
              "                    lokasi              jenis  volume satuan      omzet\n",
              "0   Pasar Bunga Rawabelong         Ros Malang    3235   Ikat  144280000\n",
              "1   Pasar Bunga Rawabelong     Hebras/Gerbera    1103   Ikat   66990000\n",
              "2   Pasar Bunga Rawabelong              Pikok    4980   Ikat   82795000\n",
              "3   Pasar Bunga Rawabelong    Aster (Cipanas)    1196   Ikat   19875000\n",
              "4   Pasar Bunga Rawabelong         Aster (PT)    6720   Ikat  111440000\n",
              "5   Pasar Bunga Rawabelong    Krisan Std (PT)    2964   Ikat   64170000\n",
              "6   Pasar Bunga Rawabelong       Gerbera (PT)    1606   Ikat   32120000\n",
              "7   Pasar Bunga Rawabelong          Carnation    1247   Ikat   43225000\n",
              "8   Pasar Bunga Rawabelong        Snap Dragon    1089   Ikat   27225000\n",
              "9   Pasar Bunga Rawabelong          Hortensia    1198   Ikat   29950000\n",
              "10  Pasar Bunga Rawabelong  Anggrek Dedrobium    1203   Ikat   96240000\n",
              "11  Pasar Bunga Rawabelong        Pilo Dendro    5443   Ikat   54430000\n",
              "12  Pasar Bunga Rawabelong     Florida Beauty     514   Ikat    5140000\n",
              "13  Pasar Bunga Rawabelong             Andong    5314   Ikat  106280000\n",
              "14  Pasar Bunga Rawabelong           Monstera    1222   Ikat   42770000\n",
              "15  Pasar Bunga Rawabelong             Ruskus    2628   Ikat   26280000\n",
              "16  Pasar Bunga Rawabelong      Ivy Variegata     403   Ikat    8060000\n",
              "17  Pasar Bunga Rawabelong              Pakis    1137   Ikat   17055000\n",
              "18  Pasar Bunga Rawabelong       Philo Marbel     366   Ikat    5490000\n",
              "19  Pasar Bunga Rawabelong            Kandaka    1126   Ikat   16890000"
            ],
            "text/html": [
              "\n",
              "  <div id=\"df-f98cf83e-602e-4a34-bf2d-2c39c55ecaab\">\n",
              "    <div class=\"colab-df-container\">\n",
              "      <div>\n",
              "<style scoped>\n",
              "    .dataframe tbody tr th:only-of-type {\n",
              "        vertical-align: middle;\n",
              "    }\n",
              "\n",
              "    .dataframe tbody tr th {\n",
              "        vertical-align: top;\n",
              "    }\n",
              "\n",
              "    .dataframe thead th {\n",
              "        text-align: right;\n",
              "    }\n",
              "</style>\n",
              "<table border=\"1\" class=\"dataframe\">\n",
              "  <thead>\n",
              "    <tr style=\"text-align: right;\">\n",
              "      <th></th>\n",
              "      <th>lokasi</th>\n",
              "      <th>jenis</th>\n",
              "      <th>volume</th>\n",
              "      <th>satuan</th>\n",
              "      <th>omzet</th>\n",
              "    </tr>\n",
              "  </thead>\n",
              "  <tbody>\n",
              "    <tr>\n",
              "      <th>0</th>\n",
              "      <td>Pasar Bunga Rawabelong</td>\n",
              "      <td>Ros Malang</td>\n",
              "      <td>3235</td>\n",
              "      <td>Ikat</td>\n",
              "      <td>144280000</td>\n",
              "    </tr>\n",
              "    <tr>\n",
              "      <th>1</th>\n",
              "      <td>Pasar Bunga Rawabelong</td>\n",
              "      <td>Hebras/Gerbera</td>\n",
              "      <td>1103</td>\n",
              "      <td>Ikat</td>\n",
              "      <td>66990000</td>\n",
              "    </tr>\n",
              "    <tr>\n",
              "      <th>2</th>\n",
              "      <td>Pasar Bunga Rawabelong</td>\n",
              "      <td>Pikok</td>\n",
              "      <td>4980</td>\n",
              "      <td>Ikat</td>\n",
              "      <td>82795000</td>\n",
              "    </tr>\n",
              "    <tr>\n",
              "      <th>3</th>\n",
              "      <td>Pasar Bunga Rawabelong</td>\n",
              "      <td>Aster (Cipanas)</td>\n",
              "      <td>1196</td>\n",
              "      <td>Ikat</td>\n",
              "      <td>19875000</td>\n",
              "    </tr>\n",
              "    <tr>\n",
              "      <th>4</th>\n",
              "      <td>Pasar Bunga Rawabelong</td>\n",
              "      <td>Aster (PT)</td>\n",
              "      <td>6720</td>\n",
              "      <td>Ikat</td>\n",
              "      <td>111440000</td>\n",
              "    </tr>\n",
              "    <tr>\n",
              "      <th>5</th>\n",
              "      <td>Pasar Bunga Rawabelong</td>\n",
              "      <td>Krisan Std (PT)</td>\n",
              "      <td>2964</td>\n",
              "      <td>Ikat</td>\n",
              "      <td>64170000</td>\n",
              "    </tr>\n",
              "    <tr>\n",
              "      <th>6</th>\n",
              "      <td>Pasar Bunga Rawabelong</td>\n",
              "      <td>Gerbera (PT)</td>\n",
              "      <td>1606</td>\n",
              "      <td>Ikat</td>\n",
              "      <td>32120000</td>\n",
              "    </tr>\n",
              "    <tr>\n",
              "      <th>7</th>\n",
              "      <td>Pasar Bunga Rawabelong</td>\n",
              "      <td>Carnation</td>\n",
              "      <td>1247</td>\n",
              "      <td>Ikat</td>\n",
              "      <td>43225000</td>\n",
              "    </tr>\n",
              "    <tr>\n",
              "      <th>8</th>\n",
              "      <td>Pasar Bunga Rawabelong</td>\n",
              "      <td>Snap Dragon</td>\n",
              "      <td>1089</td>\n",
              "      <td>Ikat</td>\n",
              "      <td>27225000</td>\n",
              "    </tr>\n",
              "    <tr>\n",
              "      <th>9</th>\n",
              "      <td>Pasar Bunga Rawabelong</td>\n",
              "      <td>Hortensia</td>\n",
              "      <td>1198</td>\n",
              "      <td>Ikat</td>\n",
              "      <td>29950000</td>\n",
              "    </tr>\n",
              "    <tr>\n",
              "      <th>10</th>\n",
              "      <td>Pasar Bunga Rawabelong</td>\n",
              "      <td>Anggrek Dedrobium</td>\n",
              "      <td>1203</td>\n",
              "      <td>Ikat</td>\n",
              "      <td>96240000</td>\n",
              "    </tr>\n",
              "    <tr>\n",
              "      <th>11</th>\n",
              "      <td>Pasar Bunga Rawabelong</td>\n",
              "      <td>Pilo Dendro</td>\n",
              "      <td>5443</td>\n",
              "      <td>Ikat</td>\n",
              "      <td>54430000</td>\n",
              "    </tr>\n",
              "    <tr>\n",
              "      <th>12</th>\n",
              "      <td>Pasar Bunga Rawabelong</td>\n",
              "      <td>Florida Beauty</td>\n",
              "      <td>514</td>\n",
              "      <td>Ikat</td>\n",
              "      <td>5140000</td>\n",
              "    </tr>\n",
              "    <tr>\n",
              "      <th>13</th>\n",
              "      <td>Pasar Bunga Rawabelong</td>\n",
              "      <td>Andong</td>\n",
              "      <td>5314</td>\n",
              "      <td>Ikat</td>\n",
              "      <td>106280000</td>\n",
              "    </tr>\n",
              "    <tr>\n",
              "      <th>14</th>\n",
              "      <td>Pasar Bunga Rawabelong</td>\n",
              "      <td>Monstera</td>\n",
              "      <td>1222</td>\n",
              "      <td>Ikat</td>\n",
              "      <td>42770000</td>\n",
              "    </tr>\n",
              "    <tr>\n",
              "      <th>15</th>\n",
              "      <td>Pasar Bunga Rawabelong</td>\n",
              "      <td>Ruskus</td>\n",
              "      <td>2628</td>\n",
              "      <td>Ikat</td>\n",
              "      <td>26280000</td>\n",
              "    </tr>\n",
              "    <tr>\n",
              "      <th>16</th>\n",
              "      <td>Pasar Bunga Rawabelong</td>\n",
              "      <td>Ivy Variegata</td>\n",
              "      <td>403</td>\n",
              "      <td>Ikat</td>\n",
              "      <td>8060000</td>\n",
              "    </tr>\n",
              "    <tr>\n",
              "      <th>17</th>\n",
              "      <td>Pasar Bunga Rawabelong</td>\n",
              "      <td>Pakis</td>\n",
              "      <td>1137</td>\n",
              "      <td>Ikat</td>\n",
              "      <td>17055000</td>\n",
              "    </tr>\n",
              "    <tr>\n",
              "      <th>18</th>\n",
              "      <td>Pasar Bunga Rawabelong</td>\n",
              "      <td>Philo Marbel</td>\n",
              "      <td>366</td>\n",
              "      <td>Ikat</td>\n",
              "      <td>5490000</td>\n",
              "    </tr>\n",
              "    <tr>\n",
              "      <th>19</th>\n",
              "      <td>Pasar Bunga Rawabelong</td>\n",
              "      <td>Kandaka</td>\n",
              "      <td>1126</td>\n",
              "      <td>Ikat</td>\n",
              "      <td>16890000</td>\n",
              "    </tr>\n",
              "  </tbody>\n",
              "</table>\n",
              "</div>\n",
              "      <button class=\"colab-df-convert\" onclick=\"convertToInteractive('df-f98cf83e-602e-4a34-bf2d-2c39c55ecaab')\"\n",
              "              title=\"Convert this dataframe to an interactive table.\"\n",
              "              style=\"display:none;\">\n",
              "        \n",
              "  <svg xmlns=\"http://www.w3.org/2000/svg\" height=\"24px\"viewBox=\"0 0 24 24\"\n",
              "       width=\"24px\">\n",
              "    <path d=\"M0 0h24v24H0V0z\" fill=\"none\"/>\n",
              "    <path d=\"M18.56 5.44l.94 2.06.94-2.06 2.06-.94-2.06-.94-.94-2.06-.94 2.06-2.06.94zm-11 1L8.5 8.5l.94-2.06 2.06-.94-2.06-.94L8.5 2.5l-.94 2.06-2.06.94zm10 10l.94 2.06.94-2.06 2.06-.94-2.06-.94-.94-2.06-.94 2.06-2.06.94z\"/><path d=\"M17.41 7.96l-1.37-1.37c-.4-.4-.92-.59-1.43-.59-.52 0-1.04.2-1.43.59L10.3 9.45l-7.72 7.72c-.78.78-.78 2.05 0 2.83L4 21.41c.39.39.9.59 1.41.59.51 0 1.02-.2 1.41-.59l7.78-7.78 2.81-2.81c.8-.78.8-2.07 0-2.86zM5.41 20L4 18.59l7.72-7.72 1.47 1.35L5.41 20z\"/>\n",
              "  </svg>\n",
              "      </button>\n",
              "      \n",
              "  <style>\n",
              "    .colab-df-container {\n",
              "      display:flex;\n",
              "      flex-wrap:wrap;\n",
              "      gap: 12px;\n",
              "    }\n",
              "\n",
              "    .colab-df-convert {\n",
              "      background-color: #E8F0FE;\n",
              "      border: none;\n",
              "      border-radius: 50%;\n",
              "      cursor: pointer;\n",
              "      display: none;\n",
              "      fill: #1967D2;\n",
              "      height: 32px;\n",
              "      padding: 0 0 0 0;\n",
              "      width: 32px;\n",
              "    }\n",
              "\n",
              "    .colab-df-convert:hover {\n",
              "      background-color: #E2EBFA;\n",
              "      box-shadow: 0px 1px 2px rgba(60, 64, 67, 0.3), 0px 1px 3px 1px rgba(60, 64, 67, 0.15);\n",
              "      fill: #174EA6;\n",
              "    }\n",
              "\n",
              "    [theme=dark] .colab-df-convert {\n",
              "      background-color: #3B4455;\n",
              "      fill: #D2E3FC;\n",
              "    }\n",
              "\n",
              "    [theme=dark] .colab-df-convert:hover {\n",
              "      background-color: #434B5C;\n",
              "      box-shadow: 0px 1px 3px 1px rgba(0, 0, 0, 0.15);\n",
              "      filter: drop-shadow(0px 1px 2px rgba(0, 0, 0, 0.3));\n",
              "      fill: #FFFFFF;\n",
              "    }\n",
              "  </style>\n",
              "\n",
              "      <script>\n",
              "        const buttonEl =\n",
              "          document.querySelector('#df-f98cf83e-602e-4a34-bf2d-2c39c55ecaab button.colab-df-convert');\n",
              "        buttonEl.style.display =\n",
              "          google.colab.kernel.accessAllowed ? 'block' : 'none';\n",
              "\n",
              "        async function convertToInteractive(key) {\n",
              "          const element = document.querySelector('#df-f98cf83e-602e-4a34-bf2d-2c39c55ecaab');\n",
              "          const dataTable =\n",
              "            await google.colab.kernel.invokeFunction('convertToInteractive',\n",
              "                                                     [key], {});\n",
              "          if (!dataTable) return;\n",
              "\n",
              "          const docLinkHtml = 'Like what you see? Visit the ' +\n",
              "            '<a target=\"_blank\" href=https://colab.research.google.com/notebooks/data_table.ipynb>data table notebook</a>'\n",
              "            + ' to learn more about interactive tables.';\n",
              "          element.innerHTML = '';\n",
              "          dataTable['output_type'] = 'display_data';\n",
              "          await google.colab.output.renderOutput(dataTable, element);\n",
              "          const docLink = document.createElement('div');\n",
              "          docLink.innerHTML = docLinkHtml;\n",
              "          element.appendChild(docLink);\n",
              "        }\n",
              "      </script>\n",
              "    </div>\n",
              "  </div>\n",
              "  "
            ]
          },
          "metadata": {},
          "execution_count": 4
        }
      ]
    },
    {
      "cell_type": "code",
      "source": [
        "import matplotlib.pyplot as plt\n",
        "\n",
        "df.plot(kind='scatter', x='volume', y='omzet')\n",
        "\n",
        "plt.title('Indeks Kesejahteraan Warga')\n",
        "plt.xlabel('Volume')\n",
        "plt.ylabel('Omzet')\n",
        "plt.xlim(0, 7000)\n",
        "plt.ylim(0, 150080000)\n",
        "plt.grid(True)\n",
        "plt.show()"
      ],
      "metadata": {
        "colab": {
          "base_uri": "https://localhost:8080/",
          "height": 295
        },
        "id": "pcze3jSrQPAf",
        "outputId": "576526e5-5c25-4cf7-cf7c-dfaa188512e3"
      },
      "execution_count": 6,
      "outputs": [
        {
          "output_type": "display_data",
          "data": {
            "text/plain": [
              "<Figure size 432x288 with 1 Axes>"
            ],
            "image/png": "[encoded data removed]"
          },
          "metadata": {
            "needs_background": "light"
          }
        }
      ]
    },
    {
      "cell_type": "code",
      "source": [
        "import numpy as np\n",
        "x = np.array(df['volume'])\n",
        "y = np.array(df['omzet'])\n",
        "\n",
        "print(f'x : {x}')\n",
        "print(f'y : {y}')"
      ],
      "metadata": {
        "colab": {
          "base_uri": "https://localhost:8080/"
        },
        "id": "6yTqqjqMQfyI",
        "outputId": "29fd42ad-ebc9-45b3-d80a-4bf2aaa8b854"
      },
      "execution_count": 7,
      "outputs": [
        {
          "output_type": "stream",
          "name": "stdout",
          "text": [
            "x : [3235 1103 4980 1196 6720 2964 1606 1247 1089 1198 1203 5443  514 5314\n",
            " 1222 2628  403 1137  366 1126]\n",
            "y : [144280000  66990000  82795000  19875000 111440000  64170000  32120000\n",
            "  43225000  27225000  29950000  96240000  54430000   5140000 106280000\n",
            "  42770000  26280000   8060000  17055000   5490000  16890000]\n"
          ]
        }
      ]
    },
    {
      "cell_type": "code",
      "source": [
        "x = x.reshape(-1, 1)\n",
        "x.shape"
      ],
      "metadata": {
        "colab": {
          "base_uri": "https://localhost:8080/"
        },
        "id": "KKHbkBCKS52i",
        "outputId": "d8a4eedf-91e0-477a-80a4-9a2b6ff9555c"
      },
      "execution_count": 8,
      "outputs": [
        {
          "output_type": "execute_result",
          "data": {
            "text/plain": [
              "(20, 1)"
            ]
          },
          "metadata": {},
          "execution_count": 8
        }
      ]
    },
    {
      "cell_type": "code",
      "source": [
        "x"
      ],
      "metadata": {
        "colab": {
          "base_uri": "https://localhost:8080/"
        },
        "id": "es56fkyeS8eH",
        "outputId": "85e1144c-0e33-46b4-fac5-3ee34392c92a"
      },
      "execution_count": 9,
      "outputs": [
        {
          "output_type": "execute_result",
          "data": {
            "text/plain": [
              "array([[3235],\n",
              "       [1103],\n",
              "       [4980],\n",
              "       [1196],\n",
              "       [6720],\n",
              "       [2964],\n",
              "       [1606],\n",
              "       [1247],\n",
              "       [1089],\n",
              "       [1198],\n",
              "       [1203],\n",
              "       [5443],\n",
              "       [ 514],\n",
              "       [5314],\n",
              "       [1222],\n",
              "       [2628],\n",
              "       [ 403],\n",
              "       [1137],\n",
              "       [ 366],\n",
              "       [1126]])"
            ]
          },
          "metadata": {},
          "execution_count": 9
        }
      ]
    },
    {
      "cell_type": "code",
      "source": [
        "from sklearn.linear_model import LinearRegression #memanggil model regresi linear\n",
        "\n",
        "model = LinearRegression() #variabel model bisa diganti\n",
        "model.fit(x, y) #x feature , y target"
      ],
      "metadata": {
        "colab": {
          "base_uri": "https://localhost:8080/"
        },
        "id": "64FOaLqpS-ic",
        "outputId": "78de1663-14b2-41b7-c72d-c87f14f0170f"
      },
      "execution_count": 10,
      "outputs": [
        {
          "output_type": "execute_result",
          "data": {
            "text/plain": [
              "LinearRegression()"
            ]
          },
          "metadata": {},
          "execution_count": 10
        }
      ]
    },
    {
      "cell_type": "code",
      "source": [
        "x_vis = np.array([0, 7000]).reshape(-1, 1) #pembuatan garis merah dari x\n",
        "y_vis = model.predict(x_vis) #model mesin lerning"
      ],
      "metadata": {
        "id": "lsPciFlhTBWA"
      },
      "execution_count": 12,
      "outputs": []
    },
    {
      "cell_type": "code",
      "source": [
        "plt.scatter(x, y)\n",
        "plt.plot(x_vis, y_vis, '-r')\n",
        "plt.title('Data Omzet')\n",
        "plt.xlabel('Volume')\n",
        "plt.ylabel('Omzet')\n",
        "plt.xlim(0, 7000)\n",
        "plt.ylim(0, 150080000) # untuk membuat batas pada visualisasi y\n",
        "plt.grid(True)\n",
        "plt.show()"
      ],
      "metadata": {
        "colab": {
          "base_uri": "https://localhost:8080/",
          "height": 295
        },
        "id": "ohqIHQH0TSL7",
        "outputId": "0b658074-adb3-4128-b616-c8e4c590e1d0"
      },
      "execution_count": 13,
      "outputs": [
        {
          "output_type": "display_data",
          "data": {
            "text/plain": [
              "<Figure size 432x288 with 1 Axes>"
            ],
            "image/png": "[encoded data removed]"
          },
          "metadata": {
            "needs_background": "light"
          }
        }
      ]
    },
    {
      "cell_type": "code",
      "source": [
        "print(f'intercept  :  {model.intercept_}')\n",
        "print(f'slope : {model.coef_}')"
      ],
      "metadata": {
        "colab": {
          "base_uri": "https://localhost:8080/"
        },
        "id": "7ID__Ep10qaV",
        "outputId": "74cf4fcc-c3d3-4512-847b-ef34918a1046"
      },
      "execution_count": null,
      "outputs": [
        {
          "output_type": "stream",
          "name": "stdout",
          "text": [
            "intercept  :  -189791.23016498855\n",
            "slope : [25999.29784246]\n"
          ]
        }
      ]
    },
    {
      "cell_type": "code",
      "source": [
        "total_omzet = np.array([64170000, 64170000, 96240000, 17055000, 82795000]).reshape(-1, 1)\n",
        "total_omzet"
      ],
      "metadata": {
        "colab": {
          "base_uri": "https://localhost:8080/"
        },
        "id": "PbSa--1K0rng",
        "outputId": "dbcd7e51-07b4-4b23-a6e9-df9ccae8f154"
      },
      "execution_count": 14,
      "outputs": [
        {
          "output_type": "execute_result",
          "data": {
            "text/plain": [
              "array([[64170000],\n",
              "       [64170000],\n",
              "       [96240000],\n",
              "       [17055000],\n",
              "       [82795000]])"
            ]
          },
          "metadata": {},
          "execution_count": 14
        }
      ]
    },
    {
      "cell_type": "code",
      "source": [
        "prediksi_indeks = model.predict(total_omzet)\n",
        "prediksi_indeks"
      ],
      "metadata": {
        "colab": {
          "base_uri": "https://localhost:8080/"
        },
        "id": "VSHu9l4q8t2R",
        "outputId": "bd773f14-d5df-4e32-86b6-f19a8364a4f8"
      },
      "execution_count": 15,
      "outputs": [
        {
          "output_type": "execute_result",
          "data": {
            "text/plain": [
              "array([9.17817426e+11, 9.17817426e+11, 1.37650256e+12, 2.43949318e+11,\n",
              "       1.18420379e+12])"
            ]
          },
          "metadata": {},
          "execution_count": 15
        }
      ]
    },
    {
      "cell_type": "code",
      "source": [
        "for omzet, index in zip(total_omzet, prediksi_indeks):\n",
        "  print(f'Omzet : {omzet} prediksi indeks : {index}')"
      ],
      "metadata": {
        "id": "SCFSA0m881E2",
        "outputId": "0b6bf8a3-a0d0-43f5-c608-1fc6050f498c",
        "colab": {
          "base_uri": "https://localhost:8080/"
        }
      },
      "execution_count": 16,
      "outputs": [
        {
          "output_type": "stream",
          "name": "stdout",
          "text": [
            "Omzet : [64170000] prediksi indeks : 917817426045.1989\n",
            "Omzet : [64170000] prediksi indeks : 917817426045.1989\n",
            "Omzet : [96240000] prediksi indeks : 1376502563126.0444\n",
            "Omzet : [17055000] prediksi indeks : 243949317733.25494\n",
            "Omzet : [82795000] prediksi indeks : 1184203789566.5815\n"
          ]
        }
      ]
    }
  ]
}