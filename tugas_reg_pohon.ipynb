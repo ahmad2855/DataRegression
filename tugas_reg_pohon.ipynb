{
  "nbformat": 4,
  "nbformat_minor": 0,
  "metadata": {
    "colab": {
      "provenance": []
    },
    "kernelspec": {
      "name": "python3",
      "display_name": "Python 3"
    },
    "language_info": {
      "name": "python"
    }
  },
  "cells": [
    {
      "cell_type": "code",
      "execution_count": null,
      "metadata": {
        "colab": {
          "base_uri": "https://localhost:8080/"
        },
        "id": "nYsbe06S1g2w",
        "outputId": "c70df067-5adf-4b1e-9569-6c4c2ab4cee6"
      },
      "outputs": [
        {
          "output_type": "stream",
          "name": "stdout",
          "text": [
            "Drive already mounted at /content/drive; to attempt to forcibly remount, call drive.mount(\"/content/drive\", force_remount=True).\n"
          ]
        }
      ],
      "source": [
        "import pandas as pd\n",
        "from google.colab import drive #memanggil package import drive\n",
        "drive.mount('/content/drive')"
      ]
    },
    {
      "cell_type": "code",
      "source": [
        "path = '/content/drive/MyDrive/CSV/regresi6b.spreadsheet - Sheet1.csv'\n",
        "\n",
        "\n",
        "df = pd.read_csv(path)\n",
        "\n",
        "df.describe()"
      ],
      "metadata": {
        "colab": {
          "base_uri": "https://localhost:8080/",
          "height": 300
        },
        "id": "7keSkUL318lr",
        "outputId": "03e287c3-9f83-4fb6-9b6a-f6534358c8a8"
      },
      "execution_count": null,
      "outputs": [
        {
          "output_type": "execute_result",
          "data": {
            "text/plain": [
              "          volume         omzet\n",
              "count  24.000000  2.400000e+01\n",
              "mean   13.000000  2.728542e+06\n",
              "std    10.986157  3.105197e+06\n",
              "min     2.000000  1.200000e+05\n",
              "25%     3.000000  4.312500e+05\n",
              "50%     7.000000  7.500000e+05\n",
              "75%    22.250000  4.750000e+06\n",
              "max    35.000000  9.450000e+06"
            ],
            "text/html": [
              "\n",
              "  <div id=\"df-d87da43b-6e4b-4716-867a-479d1f8d76e4\">\n",
              "    <div class=\"colab-df-container\">\n",
              "      <div>\n",
              "<style scoped>\n",
              "    .dataframe tbody tr th:only-of-type {\n",
              "        vertical-align: middle;\n",
              "    }\n",
              "\n",
              "    .dataframe tbody tr th {\n",
              "        vertical-align: top;\n",
              "    }\n",
              "\n",
              "    .dataframe thead th {\n",
              "        text-align: right;\n",
              "    }\n",
              "</style>\n",
              "<table border=\"1\" class=\"dataframe\">\n",
              "  <thead>\n",
              "    <tr style=\"text-align: right;\">\n",
              "      <th></th>\n",
              "      <th>volume</th>\n",
              "      <th>omzet</th>\n",
              "    </tr>\n",
              "  </thead>\n",
              "  <tbody>\n",
              "    <tr>\n",
              "      <th>count</th>\n",
              "      <td>24.000000</td>\n",
              "      <td>2.400000e+01</td>\n",
              "    </tr>\n",
              "    <tr>\n",
              "      <th>mean</th>\n",
              "      <td>13.000000</td>\n",
              "      <td>2.728542e+06</td>\n",
              "    </tr>\n",
              "    <tr>\n",
              "      <th>std</th>\n",
              "      <td>10.986157</td>\n",
              "      <td>3.105197e+06</td>\n",
              "    </tr>\n",
              "    <tr>\n",
              "      <th>min</th>\n",
              "      <td>2.000000</td>\n",
              "      <td>1.200000e+05</td>\n",
              "    </tr>\n",
              "    <tr>\n",
              "      <th>25%</th>\n",
              "      <td>3.000000</td>\n",
              "      <td>4.312500e+05</td>\n",
              "    </tr>\n",
              "    <tr>\n",
              "      <th>50%</th>\n",
              "      <td>7.000000</td>\n",
              "      <td>7.500000e+05</td>\n",
              "    </tr>\n",
              "    <tr>\n",
              "      <th>75%</th>\n",
              "      <td>22.250000</td>\n",
              "      <td>4.750000e+06</td>\n",
              "    </tr>\n",
              "    <tr>\n",
              "      <th>max</th>\n",
              "      <td>35.000000</td>\n",
              "      <td>9.450000e+06</td>\n",
              "    </tr>\n",
              "  </tbody>\n",
              "</table>\n",
              "</div>\n",
              "      <button class=\"colab-df-convert\" onclick=\"convertToInteractive('df-d87da43b-6e4b-4716-867a-479d1f8d76e4')\"\n",
              "              title=\"Convert this dataframe to an interactive table.\"\n",
              "              style=\"display:none;\">\n",
              "        \n",
              "  <svg xmlns=\"http://www.w3.org/2000/svg\" height=\"24px\"viewBox=\"0 0 24 24\"\n",
              "       width=\"24px\">\n",
              "    <path d=\"M0 0h24v24H0V0z\" fill=\"none\"/>\n",
              "    <path d=\"M18.56 5.44l.94 2.06.94-2.06 2.06-.94-2.06-.94-.94-2.06-.94 2.06-2.06.94zm-11 1L8.5 8.5l.94-2.06 2.06-.94-2.06-.94L8.5 2.5l-.94 2.06-2.06.94zm10 10l.94 2.06.94-2.06 2.06-.94-2.06-.94-.94-2.06-.94 2.06-2.06.94z\"/><path d=\"M17.41 7.96l-1.37-1.37c-.4-.4-.92-.59-1.43-.59-.52 0-1.04.2-1.43.59L10.3 9.45l-7.72 7.72c-.78.78-.78 2.05 0 2.83L4 21.41c.39.39.9.59 1.41.59.51 0 1.02-.2 1.41-.59l7.78-7.78 2.81-2.81c.8-.78.8-2.07 0-2.86zM5.41 20L4 18.59l7.72-7.72 1.47 1.35L5.41 20z\"/>\n",
              "  </svg>\n",
              "      </button>\n",
              "      \n",
              "  <style>\n",
              "    .colab-df-container {\n",
              "      display:flex;\n",
              "      flex-wrap:wrap;\n",
              "      gap: 12px;\n",
              "    }\n",
              "\n",
              "    .colab-df-convert {\n",
              "      background-color: #E8F0FE;\n",
              "      border: none;\n",
              "      border-radius: 50%;\n",
              "      cursor: pointer;\n",
              "      display: none;\n",
              "      fill: #1967D2;\n",
              "      height: 32px;\n",
              "      padding: 0 0 0 0;\n",
              "      width: 32px;\n",
              "    }\n",
              "\n",
              "    .colab-df-convert:hover {\n",
              "      background-color: #E2EBFA;\n",
              "      box-shadow: 0px 1px 2px rgba(60, 64, 67, 0.3), 0px 1px 3px 1px rgba(60, 64, 67, 0.15);\n",
              "      fill: #174EA6;\n",
              "    }\n",
              "\n",
              "    [theme=dark] .colab-df-convert {\n",
              "      background-color: #3B4455;\n",
              "      fill: #D2E3FC;\n",
              "    }\n",
              "\n",
              "    [theme=dark] .colab-df-convert:hover {\n",
              "      background-color: #434B5C;\n",
              "      box-shadow: 0px 1px 3px 1px rgba(0, 0, 0, 0.15);\n",
              "      filter: drop-shadow(0px 1px 2px rgba(0, 0, 0, 0.3));\n",
              "      fill: #FFFFFF;\n",
              "    }\n",
              "  </style>\n",
              "\n",
              "      <script>\n",
              "        const buttonEl =\n",
              "          document.querySelector('#df-d87da43b-6e4b-4716-867a-479d1f8d76e4 button.colab-df-convert');\n",
              "        buttonEl.style.display =\n",
              "          google.colab.kernel.accessAllowed ? 'block' : 'none';\n",
              "\n",
              "        async function convertToInteractive(key) {\n",
              "          const element = document.querySelector('#df-d87da43b-6e4b-4716-867a-479d1f8d76e4');\n",
              "          const dataTable =\n",
              "            await google.colab.kernel.invokeFunction('convertToInteractive',\n",
              "                                                     [key], {});\n",
              "          if (!dataTable) return;\n",
              "\n",
              "          const docLinkHtml = 'Like what you see? Visit the ' +\n",
              "            '<a target=\"_blank\" href=https://colab.research.google.com/notebooks/data_table.ipynb>data table notebook</a>'\n",
              "            + ' to learn more about interactive tables.';\n",
              "          element.innerHTML = '';\n",
              "          dataTable['output_type'] = 'display_data';\n",
              "          await google.colab.output.renderOutput(dataTable, element);\n",
              "          const docLink = document.createElement('div');\n",
              "          docLink.innerHTML = docLinkHtml;\n",
              "          element.appendChild(docLink);\n",
              "        }\n",
              "      </script>\n",
              "    </div>\n",
              "  </div>\n",
              "  "
            ]
          },
          "metadata": {},
          "execution_count": 3
        }
      ]
    },
    {
      "cell_type": "code",
      "source": [
        "df"
      ],
      "metadata": {
        "colab": {
          "base_uri": "https://localhost:8080/",
          "height": 802
        },
        "id": "_VfDkiRF2LtY",
        "outputId": "ad75f15d-65d5-4866-fa29-5e661e5d90f8"
      },
      "execution_count": null,
      "outputs": [
        {
          "output_type": "execute_result",
          "data": {
            "text/plain": [
              "                     lokasi            jenis  volume satuan    omzet\n",
              "0   Penangkar Bibit Ragunan      Pohon sukun       3  Pohon   750000\n",
              "1   Penangkar Bibit Ragunan          Menteng       3  Pohon   450000\n",
              "2   Penangkar Bibit Ragunan           Cermai       5  Pohon   375000\n",
              "3   Penangkar Bibit Ragunan   Durian Montong      35  Pohon  8750000\n",
              "4   Penangkar Bibit Ragunan        Jeruk Kip      18  Pohon  4500000\n",
              "5   Penangkar Bibit Ragunan      Jeruk purut      23  Pohon  3450000\n",
              "6   Penangkar Bibit Ragunan       Jeruk Bali      18  Pohon  3600000\n",
              "7   Penangkar Bibit Ragunan  Mangga Manalagi      22  Pohon  5500000\n",
              "8   Penangkar Bibit Ragunan   Belimbing Dewi       5  Pohon   750000\n",
              "9   Penangkar Bibit Ragunan   jambu airlilin      27  Pohon  9450000\n",
              "10  Penangkar Bibit Ragunan      jambu citra      26  Pohon  6500000\n",
              "11  Penangkar Bibit Ragunan      sawo betawi       5  Pohon   750000\n",
              "12  Penangkar Bibit Ragunan    Jamblang ungu       2  Pohon   500000\n",
              "13  Penangkar Bibit Ragunan            Matoa       3  Pohon   210000\n",
              "14  Penangkar Bibit Ragunan             Duku       3  Pohon   450000\n",
              "15  Penangkar Bibit Ragunan           Anggur      29  Pohon  7250000\n",
              "16  Penangkar Bibit Ragunan            Rukem      10  Pohon  1500000\n",
              "17  Penangkar Bibit Ragunan             Leci       2  Pohon   120000\n",
              "18  Penangkar Bibit Ragunan       Kedongdong       3  Pohon   375000\n",
              "19  Penangkar Bibit Ragunan          Alpukat      30  Pohon  7500000\n",
              "20  Penangkar Bibit Ragunan      pohon kepel       9  Pohon   450000\n",
              "21  Penangkar Bibit Ragunan           Cincau       5  Pohon   250000\n",
              "22  Penangkar Bibit Ragunan      sirih merah      21  Pohon  1680000\n",
              "23  Penangkar Bibit Ragunan       cabe merah       5  Pohon   375000"
            ],
            "text/html": [
              "\n",
              "  <div id=\"df-01ded8fa-18dd-47db-a3fe-6f455826008d\">\n",
              "    <div class=\"colab-df-container\">\n",
              "      <div>\n",
              "<style scoped>\n",
              "    .dataframe tbody tr th:only-of-type {\n",
              "        vertical-align: middle;\n",
              "    }\n",
              "\n",
              "    .dataframe tbody tr th {\n",
              "        vertical-align: top;\n",
              "    }\n",
              "\n",
              "    .dataframe thead th {\n",
              "        text-align: right;\n",
              "    }\n",
              "</style>\n",
              "<table border=\"1\" class=\"dataframe\">\n",
              "  <thead>\n",
              "    <tr style=\"text-align: right;\">\n",
              "      <th></th>\n",
              "      <th>lokasi</th>\n",
              "      <th>jenis</th>\n",
              "      <th>volume</th>\n",
              "      <th>satuan</th>\n",
              "      <th>omzet</th>\n",
              "    </tr>\n",
              "  </thead>\n",
              "  <tbody>\n",
              "    <tr>\n",
              "      <th>0</th>\n",
              "      <td>Penangkar Bibit Ragunan</td>\n",
              "      <td>Pohon sukun</td>\n",
              "      <td>3</td>\n",
              "      <td>Pohon</td>\n",
              "      <td>750000</td>\n",
              "    </tr>\n",
              "    <tr>\n",
              "      <th>1</th>\n",
              "      <td>Penangkar Bibit Ragunan</td>\n",
              "      <td>Menteng</td>\n",
              "      <td>3</td>\n",
              "      <td>Pohon</td>\n",
              "      <td>450000</td>\n",
              "    </tr>\n",
              "    <tr>\n",
              "      <th>2</th>\n",
              "      <td>Penangkar Bibit Ragunan</td>\n",
              "      <td>Cermai</td>\n",
              "      <td>5</td>\n",
              "      <td>Pohon</td>\n",
              "      <td>375000</td>\n",
              "    </tr>\n",
              "    <tr>\n",
              "      <th>3</th>\n",
              "      <td>Penangkar Bibit Ragunan</td>\n",
              "      <td>Durian Montong</td>\n",
              "      <td>35</td>\n",
              "      <td>Pohon</td>\n",
              "      <td>8750000</td>\n",
              "    </tr>\n",
              "    <tr>\n",
              "      <th>4</th>\n",
              "      <td>Penangkar Bibit Ragunan</td>\n",
              "      <td>Jeruk Kip</td>\n",
              "      <td>18</td>\n",
              "      <td>Pohon</td>\n",
              "      <td>4500000</td>\n",
              "    </tr>\n",
              "    <tr>\n",
              "      <th>5</th>\n",
              "      <td>Penangkar Bibit Ragunan</td>\n",
              "      <td>Jeruk purut</td>\n",
              "      <td>23</td>\n",
              "      <td>Pohon</td>\n",
              "      <td>3450000</td>\n",
              "    </tr>\n",
              "    <tr>\n",
              "      <th>6</th>\n",
              "      <td>Penangkar Bibit Ragunan</td>\n",
              "      <td>Jeruk Bali</td>\n",
              "      <td>18</td>\n",
              "      <td>Pohon</td>\n",
              "      <td>3600000</td>\n",
              "    </tr>\n",
              "    <tr>\n",
              "      <th>7</th>\n",
              "      <td>Penangkar Bibit Ragunan</td>\n",
              "      <td>Mangga Manalagi</td>\n",
              "      <td>22</td>\n",
              "      <td>Pohon</td>\n",
              "      <td>5500000</td>\n",
              "    </tr>\n",
              "    <tr>\n",
              "      <th>8</th>\n",
              "      <td>Penangkar Bibit Ragunan</td>\n",
              "      <td>Belimbing Dewi</td>\n",
              "      <td>5</td>\n",
              "      <td>Pohon</td>\n",
              "      <td>750000</td>\n",
              "    </tr>\n",
              "    <tr>\n",
              "      <th>9</th>\n",
              "      <td>Penangkar Bibit Ragunan</td>\n",
              "      <td>jambu airlilin</td>\n",
              "      <td>27</td>\n",
              "      <td>Pohon</td>\n",
              "      <td>9450000</td>\n",
              "    </tr>\n",
              "    <tr>\n",
              "      <th>10</th>\n",
              "      <td>Penangkar Bibit Ragunan</td>\n",
              "      <td>jambu citra</td>\n",
              "      <td>26</td>\n",
              "      <td>Pohon</td>\n",
              "      <td>6500000</td>\n",
              "    </tr>\n",
              "    <tr>\n",
              "      <th>11</th>\n",
              "      <td>Penangkar Bibit Ragunan</td>\n",
              "      <td>sawo betawi</td>\n",
              "      <td>5</td>\n",
              "      <td>Pohon</td>\n",
              "      <td>750000</td>\n",
              "    </tr>\n",
              "    <tr>\n",
              "      <th>12</th>\n",
              "      <td>Penangkar Bibit Ragunan</td>\n",
              "      <td>Jamblang ungu</td>\n",
              "      <td>2</td>\n",
              "      <td>Pohon</td>\n",
              "      <td>500000</td>\n",
              "    </tr>\n",
              "    <tr>\n",
              "      <th>13</th>\n",
              "      <td>Penangkar Bibit Ragunan</td>\n",
              "      <td>Matoa</td>\n",
              "      <td>3</td>\n",
              "      <td>Pohon</td>\n",
              "      <td>210000</td>\n",
              "    </tr>\n",
              "    <tr>\n",
              "      <th>14</th>\n",
              "      <td>Penangkar Bibit Ragunan</td>\n",
              "      <td>Duku</td>\n",
              "      <td>3</td>\n",
              "      <td>Pohon</td>\n",
              "      <td>450000</td>\n",
              "    </tr>\n",
              "    <tr>\n",
              "      <th>15</th>\n",
              "      <td>Penangkar Bibit Ragunan</td>\n",
              "      <td>Anggur</td>\n",
              "      <td>29</td>\n",
              "      <td>Pohon</td>\n",
              "      <td>7250000</td>\n",
              "    </tr>\n",
              "    <tr>\n",
              "      <th>16</th>\n",
              "      <td>Penangkar Bibit Ragunan</td>\n",
              "      <td>Rukem</td>\n",
              "      <td>10</td>\n",
              "      <td>Pohon</td>\n",
              "      <td>1500000</td>\n",
              "    </tr>\n",
              "    <tr>\n",
              "      <th>17</th>\n",
              "      <td>Penangkar Bibit Ragunan</td>\n",
              "      <td>Leci</td>\n",
              "      <td>2</td>\n",
              "      <td>Pohon</td>\n",
              "      <td>120000</td>\n",
              "    </tr>\n",
              "    <tr>\n",
              "      <th>18</th>\n",
              "      <td>Penangkar Bibit Ragunan</td>\n",
              "      <td>Kedongdong</td>\n",
              "      <td>3</td>\n",
              "      <td>Pohon</td>\n",
              "      <td>375000</td>\n",
              "    </tr>\n",
              "    <tr>\n",
              "      <th>19</th>\n",
              "      <td>Penangkar Bibit Ragunan</td>\n",
              "      <td>Alpukat</td>\n",
              "      <td>30</td>\n",
              "      <td>Pohon</td>\n",
              "      <td>7500000</td>\n",
              "    </tr>\n",
              "    <tr>\n",
              "      <th>20</th>\n",
              "      <td>Penangkar Bibit Ragunan</td>\n",
              "      <td>pohon kepel</td>\n",
              "      <td>9</td>\n",
              "      <td>Pohon</td>\n",
              "      <td>450000</td>\n",
              "    </tr>\n",
              "    <tr>\n",
              "      <th>21</th>\n",
              "      <td>Penangkar Bibit Ragunan</td>\n",
              "      <td>Cincau</td>\n",
              "      <td>5</td>\n",
              "      <td>Pohon</td>\n",
              "      <td>250000</td>\n",
              "    </tr>\n",
              "    <tr>\n",
              "      <th>22</th>\n",
              "      <td>Penangkar Bibit Ragunan</td>\n",
              "      <td>sirih merah</td>\n",
              "      <td>21</td>\n",
              "      <td>Pohon</td>\n",
              "      <td>1680000</td>\n",
              "    </tr>\n",
              "    <tr>\n",
              "      <th>23</th>\n",
              "      <td>Penangkar Bibit Ragunan</td>\n",
              "      <td>cabe merah</td>\n",
              "      <td>5</td>\n",
              "      <td>Pohon</td>\n",
              "      <td>375000</td>\n",
              "    </tr>\n",
              "  </tbody>\n",
              "</table>\n",
              "</div>\n",
              "      <button class=\"colab-df-convert\" onclick=\"convertToInteractive('df-01ded8fa-18dd-47db-a3fe-6f455826008d')\"\n",
              "              title=\"Convert this dataframe to an interactive table.\"\n",
              "              style=\"display:none;\">\n",
              "        \n",
              "  <svg xmlns=\"http://www.w3.org/2000/svg\" height=\"24px\"viewBox=\"0 0 24 24\"\n",
              "       width=\"24px\">\n",
              "    <path d=\"M0 0h24v24H0V0z\" fill=\"none\"/>\n",
              "    <path d=\"M18.56 5.44l.94 2.06.94-2.06 2.06-.94-2.06-.94-.94-2.06-.94 2.06-2.06.94zm-11 1L8.5 8.5l.94-2.06 2.06-.94-2.06-.94L8.5 2.5l-.94 2.06-2.06.94zm10 10l.94 2.06.94-2.06 2.06-.94-2.06-.94-.94-2.06-.94 2.06-2.06.94z\"/><path d=\"M17.41 7.96l-1.37-1.37c-.4-.4-.92-.59-1.43-.59-.52 0-1.04.2-1.43.59L10.3 9.45l-7.72 7.72c-.78.78-.78 2.05 0 2.83L4 21.41c.39.39.9.59 1.41.59.51 0 1.02-.2 1.41-.59l7.78-7.78 2.81-2.81c.8-.78.8-2.07 0-2.86zM5.41 20L4 18.59l7.72-7.72 1.47 1.35L5.41 20z\"/>\n",
              "  </svg>\n",
              "      </button>\n",
              "      \n",
              "  <style>\n",
              "    .colab-df-container {\n",
              "      display:flex;\n",
              "      flex-wrap:wrap;\n",
              "      gap: 12px;\n",
              "    }\n",
              "\n",
              "    .colab-df-convert {\n",
              "      background-color: #E8F0FE;\n",
              "      border: none;\n",
              "      border-radius: 50%;\n",
              "      cursor: pointer;\n",
              "      display: none;\n",
              "      fill: #1967D2;\n",
              "      height: 32px;\n",
              "      padding: 0 0 0 0;\n",
              "      width: 32px;\n",
              "    }\n",
              "\n",
              "    .colab-df-convert:hover {\n",
              "      background-color: #E2EBFA;\n",
              "      box-shadow: 0px 1px 2px rgba(60, 64, 67, 0.3), 0px 1px 3px 1px rgba(60, 64, 67, 0.15);\n",
              "      fill: #174EA6;\n",
              "    }\n",
              "\n",
              "    [theme=dark] .colab-df-convert {\n",
              "      background-color: #3B4455;\n",
              "      fill: #D2E3FC;\n",
              "    }\n",
              "\n",
              "    [theme=dark] .colab-df-convert:hover {\n",
              "      background-color: #434B5C;\n",
              "      box-shadow: 0px 1px 3px 1px rgba(0, 0, 0, 0.15);\n",
              "      filter: drop-shadow(0px 1px 2px rgba(0, 0, 0, 0.3));\n",
              "      fill: #FFFFFF;\n",
              "    }\n",
              "  </style>\n",
              "\n",
              "      <script>\n",
              "        const buttonEl =\n",
              "          document.querySelector('#df-01ded8fa-18dd-47db-a3fe-6f455826008d button.colab-df-convert');\n",
              "        buttonEl.style.display =\n",
              "          google.colab.kernel.accessAllowed ? 'block' : 'none';\n",
              "\n",
              "        async function convertToInteractive(key) {\n",
              "          const element = document.querySelector('#df-01ded8fa-18dd-47db-a3fe-6f455826008d');\n",
              "          const dataTable =\n",
              "            await google.colab.kernel.invokeFunction('convertToInteractive',\n",
              "                                                     [key], {});\n",
              "          if (!dataTable) return;\n",
              "\n",
              "          const docLinkHtml = 'Like what you see? Visit the ' +\n",
              "            '<a target=\"_blank\" href=https://colab.research.google.com/notebooks/data_table.ipynb>data table notebook</a>'\n",
              "            + ' to learn more about interactive tables.';\n",
              "          element.innerHTML = '';\n",
              "          dataTable['output_type'] = 'display_data';\n",
              "          await google.colab.output.renderOutput(dataTable, element);\n",
              "          const docLink = document.createElement('div');\n",
              "          docLink.innerHTML = docLinkHtml;\n",
              "          element.appendChild(docLink);\n",
              "        }\n",
              "      </script>\n",
              "    </div>\n",
              "  </div>\n",
              "  "
            ]
          },
          "metadata": {},
          "execution_count": 4
        }
      ]
    },
    {
      "cell_type": "code",
      "source": [
        "import matplotlib.pyplot as plt\n",
        "\n",
        "df.plot(kind='scatter', x='volume', y='omzet')\n",
        "\n",
        "plt.title('Data Volume dan Omzet')\n",
        "plt.xlabel('Volume')\n",
        "plt.ylabel('Omzet')\n",
        "plt.xlim(0, 40)\n",
        "plt.ylim(0, 9550000)\n",
        "plt.grid(True)\n",
        "plt.show()"
      ],
      "metadata": {
        "colab": {
          "base_uri": "https://localhost:8080/",
          "height": 295
        },
        "id": "IVcggMO62M5C",
        "outputId": "11855dc1-605c-4703-ffa9-3d7a750c8d4b"
      },
      "execution_count": null,
      "outputs": [
        {
          "output_type": "display_data",
          "data": {
            "text/plain": [
              "<Figure size 432x288 with 1 Axes>"
            ],
            "image/png": "[encoded data removed]"
          },
          "metadata": {
            "needs_background": "light"
          }
        }
      ]
    },
    {
      "cell_type": "code",
      "source": [
        "import numpy as np\n",
        "x = np.array(df['volume'])\n",
        "y = np.array(df['omzet'])\n",
        "\n",
        "print(f'x : {x}')\n",
        "print(f'y : {y}')"
      ],
      "metadata": {
        "colab": {
          "base_uri": "https://localhost:8080/"
        },
        "id": "bftxdhCcA55p",
        "outputId": "921e4f14-d5e5-49c1-8192-7f089dc9ac84"
      },
      "execution_count": null,
      "outputs": [
        {
          "output_type": "stream",
          "name": "stdout",
          "text": [
            "x : [ 3  3  5 35 18 23 18 22  5 27 26  5  2  3  3 29 10  2  3 30  9  5 21  5]\n",
            "y : [ 750000  450000  375000 8750000 4500000 3450000 3600000 5500000  750000\n",
            " 9450000 6500000  750000  500000  210000  450000 7250000 1500000  120000\n",
            "  375000 7500000  450000  250000 1680000  375000]\n"
          ]
        }
      ]
    },
    {
      "cell_type": "code",
      "source": [
        "x = x.reshape(-1, 1)\n",
        "x.shape"
      ],
      "metadata": {
        "colab": {
          "base_uri": "https://localhost:8080/"
        },
        "id": "zMJGQwU1BEVT",
        "outputId": "56aab51d-ec21-4dfa-a42d-148e3c9dcd0c"
      },
      "execution_count": null,
      "outputs": [
        {
          "output_type": "execute_result",
          "data": {
            "text/plain": [
              "(24, 1)"
            ]
          },
          "metadata": {},
          "execution_count": 7
        }
      ]
    },
    {
      "cell_type": "code",
      "source": [
        "x"
      ],
      "metadata": {
        "colab": {
          "base_uri": "https://localhost:8080/"
        },
        "id": "d3pZk7J_BGSz",
        "outputId": "5c171e1c-247a-4415-daad-6e5a7f15a583"
      },
      "execution_count": null,
      "outputs": [
        {
          "output_type": "execute_result",
          "data": {
            "text/plain": [
              "array([[ 3],\n",
              "       [ 3],\n",
              "       [ 5],\n",
              "       [35],\n",
              "       [18],\n",
              "       [23],\n",
              "       [18],\n",
              "       [22],\n",
              "       [ 5],\n",
              "       [27],\n",
              "       [26],\n",
              "       [ 5],\n",
              "       [ 2],\n",
              "       [ 3],\n",
              "       [ 3],\n",
              "       [29],\n",
              "       [10],\n",
              "       [ 2],\n",
              "       [ 3],\n",
              "       [30],\n",
              "       [ 9],\n",
              "       [ 5],\n",
              "       [21],\n",
              "       [ 5]])"
            ]
          },
          "metadata": {},
          "execution_count": 8
        }
      ]
    },
    {
      "cell_type": "code",
      "source": [
        "#taraining model\n",
        "from sklearn.linear_model import LinearRegression #memanggil model regresi linear\n",
        "\n",
        "model = LinearRegression() #variabel model bisa diganti\n",
        "model.fit(x, y) #x feature , y target\n"
      ],
      "metadata": {
        "colab": {
          "base_uri": "https://localhost:8080/"
        },
        "id": "XFm3CtWyBH4n",
        "outputId": "83d00da9-3f22-42f9-bef2-792e02026fa5"
      },
      "execution_count": null,
      "outputs": [
        {
          "output_type": "execute_result",
          "data": {
            "text/plain": [
              "LinearRegression()"
            ]
          },
          "metadata": {},
          "execution_count": 9
        }
      ]
    },
    {
      "cell_type": "code",
      "source": [
        "x_vis = np.array([0, 370]).reshape(-1, 1) #pembuatan garis merah dari x\n",
        "y_vis = model.predict(x_vis) #model mesin lerning"
      ],
      "metadata": {
        "id": "sjDaasd6BTMK"
      },
      "execution_count": null,
      "outputs": []
    },
    {
      "cell_type": "code",
      "source": [
        "plt.scatter(x, y)\n",
        "plt.plot(x_vis, y_vis, '-r')\n",
        "plt.title('Data Omzet ')\n",
        "plt.xlabel('Volume')\n",
        "plt.ylabel('Omzet')\n",
        "plt.xlim(0, 40)\n",
        "plt.ylim(0, 9600000) # untuk membuat batas pada visualisasi y\n",
        "plt.grid(True)\n",
        "plt.show()"
      ],
      "metadata": {
        "colab": {
          "base_uri": "https://localhost:8080/",
          "height": 295
        },
        "id": "WVwYQRzKBbde",
        "outputId": "4c86ad34-e578-4d31-e566-fb2fb6ccaacb"
      },
      "execution_count": null,
      "outputs": [
        {
          "output_type": "display_data",
          "data": {
            "text/plain": [
              "<Figure size 432x288 with 1 Axes>"
            ],
            "image/png": "[encoded data removed]"
          },
          "metadata": {
            "needs_background": "light"
          }
        }
      ]
    },
    {
      "cell_type": "code",
      "source": [
        "print(f'intercept  :  {model.intercept_}')\n",
        "print(f'slope : {model.coef_}')"
      ],
      "metadata": {
        "colab": {
          "base_uri": "https://localhost:8080/"
        },
        "id": "yaQowaa6RvjD",
        "outputId": "1901d8ad-b6ef-4dd0-b20b-d40d77adbd8c"
      },
      "execution_count": null,
      "outputs": [
        {
          "output_type": "stream",
          "name": "stdout",
          "text": [
            "intercept  :  -714725.6243996159\n",
            "slope : [264866.71469741]\n"
          ]
        }
      ]
    },
    {
      "cell_type": "code",
      "source": [
        "total_omzet = np.array([250000, 120000, 7250000, 7500000, 8750000]).reshape(-1, 1)\n",
        "total_omzet"
      ],
      "metadata": {
        "id": "xqBkRbMQR2cC",
        "colab": {
          "base_uri": "https://localhost:8080/"
        },
        "outputId": "3cd5621c-8080-4450-d6b7-c1a075cb3069"
      },
      "execution_count": null,
      "outputs": [
        {
          "output_type": "execute_result",
          "data": {
            "text/plain": [
              "array([[ 250000],\n",
              "       [ 120000],\n",
              "       [7250000],\n",
              "       [7500000],\n",
              "       [8750000]])"
            ]
          },
          "metadata": {},
          "execution_count": 16
        }
      ]
    },
    {
      "cell_type": "code",
      "source": [
        "prediksi_indeks = model.predict(total_omzet)\n",
        "prediksi_indeks"
      ],
      "metadata": {
        "colab": {
          "base_uri": "https://localhost:8080/"
        },
        "id": "1fvZAc9Tsw-j",
        "outputId": "10d533f6-0466-4445-ca28-aedfe5ace380"
      },
      "execution_count": null,
      "outputs": [
        {
          "output_type": "execute_result",
          "data": {
            "text/plain": [
              "array([6.62159639e+10, 3.17832910e+10, 1.92028297e+12, 1.98649965e+12,\n",
              "       2.31758304e+12])"
            ]
          },
          "metadata": {},
          "execution_count": 17
        }
      ]
    },
    {
      "cell_type": "code",
      "source": [
        "for omzet, index in zip(total_omzet, prediksi_indeks):\n",
        "  print(f'Omzet : {omzet} prediksi indeks : {index}')"
      ],
      "metadata": {
        "colab": {
          "base_uri": "https://localhost:8080/"
        },
        "id": "R6gUZMW6s0kt",
        "outputId": "18b476a1-c307-486c-f86c-c1a2347acba4"
      },
      "execution_count": null,
      "outputs": [
        {
          "output_type": "stream",
          "name": "stdout",
          "text": [
            "Omzet : [250000] prediksi indeks : 66215963948.72719\n",
            "Omzet : [120000] prediksi indeks : 31783291038.064358\n",
            "Omzet : [7250000] prediksi indeks : 1920282966830.5715\n",
            "Omzet : [7500000] prediksi indeks : 1986499645504.923\n",
            "Omzet : [8750000] prediksi indeks : 2317583038876.681\n"
          ]
        }
      ]
    }
  ]
}